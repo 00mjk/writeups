{
 "cells": [
  {
   "cell_type": "markdown",
   "metadata": {},
   "source": [
    "# Description of the challenge"
   ]
  },
  {
   "cell_type": "markdown",
   "metadata": {},
   "source": [
    "Hey, you're a hacker, right? I think I am too, look at what I made!\n",
    "\n",
    "`(2531257, 43)`\n",
    "\n",
    "My super secret message: \n",
    "`906851 991083 1780304 2380434 438490 356019 921472 822283 817856 556932 2102538 2501908 2211404 991083 1562919 38268`\n",
    "\n",
    "Problem is, I don't remember how to decrypt it... could you help me out?"
   ]
  },
  {
   "cell_type": "markdown",
   "metadata": {},
   "source": [
    "# Solving the challenge"
   ]
  },
  {
   "cell_type": "markdown",
   "metadata": {},
   "source": [
    "The inputs and name of challenge suggest that this is a normal RSA encryption using a really small prime, so a simple attack on the prime factorization of the public modulo will yield the correct decryption."
   ]
  },
  {
   "cell_type": "markdown",
   "metadata": {},
   "source": [
    "## Loading the input"
   ]
  },
  {
   "cell_type": "code",
   "execution_count": 3,
   "metadata": {},
   "outputs": [],
   "source": [
    "parameters = (2531257, 43)\n",
    "factors = (509, 4973)\n",
    "message = [906851, 991083, 1780304, 2380434, 438490, 356019, 921472, 822283, 817856, 556932, 2102538, 2501908, 2211404, 991083, 1562919, 38268]"
   ]
  },
  {
   "cell_type": "markdown",
   "metadata": {},
   "source": [
    "## Idea\n",
    "The prime is small, so it can be factore and we can decrypt the RSA encryption easily."
   ]
  },
  {
   "cell_type": "code",
   "execution_count": 4,
   "metadata": {},
   "outputs": [],
   "source": [
    "domain = Zmod(parameters[0])\n",
    "domain_of_exponent = (factors[0] - 1)*(factors[1] - 1)"
   ]
  },
  {
   "cell_type": "markdown",
   "metadata": {},
   "source": [
    "## Getting the secret key\n",
    "In RSA the secret key is the inverse of the key such that m^(ek) = m"
   ]
  },
  {
   "cell_type": "code",
   "execution_count": 5,
   "metadata": {},
   "outputs": [],
   "source": [
    "secret_key = inverse_mod(43, domain_of_exponent)"
   ]
  },
  {
   "cell_type": "code",
   "execution_count": 6,
   "metadata": {},
   "outputs": [],
   "source": [
    "decrypted = []\n",
    "for m in message:\n",
    "    decrypted.append(power_mod(m,secret_key, parameters[0]))"
   ]
  },
  {
   "cell_type": "code",
   "execution_count": 7,
   "metadata": {},
   "outputs": [
    {
     "name": "stdout",
     "output_type": "stream",
     "text": [
      "103\n",
      "105103\n",
      "101109\n",
      "12383\n",
      "97118\n",
      "97103\n",
      "10195\n",
      "83105\n",
      "12095\n",
      "70108\n",
      "121105\n",
      "110103\n",
      "9584\n",
      "105103\n",
      "101114\n",
      "115125\n"
     ]
    }
   ],
   "source": [
    "from Crypto.Util.number import long_to_bytes, bytes_to_long\n",
    "for d in decrypted:\n",
    "    print((d))"
   ]
  },
  {
   "cell_type": "markdown",
   "metadata": {},
   "source": [
    "## Trick to decrypt\n",
    "The view in decimal of the decryption allows us to see that these are `ASCII` characters, sometimes they are grouped by two.\n",
    "So, taking them appart and decrypting yields the flag"
   ]
  },
  {
   "cell_type": "code",
   "execution_count": 10,
   "metadata": {},
   "outputs": [],
   "source": [
    "text_in_dec = [103,105,103,101,109,123,83,97,118,97,103,101,95,83,105,120,95,70,108,121,105,110,103,95,84,105,103,101,114,115,125]"
   ]
  },
  {
   "cell_type": "code",
   "execution_count": 11,
   "metadata": {},
   "outputs": [
    {
     "name": "stdout",
     "output_type": "stream",
     "text": [
      "gigem{Savage_Six_Flying_Tigers}\n"
     ]
    }
   ],
   "source": [
    "recovered = \"\"\n",
    "for n in text_in_dec:\n",
    "    recovered += chr(n)\n",
    "    \n",
    "print recovered"
   ]
  },
  {
   "cell_type": "markdown",
   "metadata": {},
   "source": [
    "## Flag\n",
    "The flag is therefore : `gigem{Savage_Six_Flying_Tigers}`"
   ]
  }
 ],
 "metadata": {
  "kernelspec": {
   "display_name": "SageMath 8.6",
   "language": "",
   "name": "sagemath"
  },
  "language_info": {
   "codemirror_mode": {
    "name": "ipython",
    "version": 2
   },
   "file_extension": ".py",
   "mimetype": "text/x-python",
   "name": "python",
   "nbconvert_exporter": "python",
   "pygments_lexer": "ipython2",
   "version": "2.7.15"
  }
 },
 "nbformat": 4,
 "nbformat_minor": 2
}
