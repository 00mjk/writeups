{
 "cells": [
  {
   "cell_type": "markdown",
   "metadata": {
    "deletable": true,
    "editable": true
   },
   "source": [
    "# Revolutional Secure Angou - TokyoWesterns CTF 2018\n",
    "\n",
    "## Introduction\n",
    "\n",
    "In this challenge we are given a file containing a RSA public key as well as the flag encrypted with that same public key.\n",
    "We are also given `generator.rb`, the Ruby script used to generate the public key and encrypt the flag:\n",
    "\n",
    "```rb\n",
    "require 'openssl'\n",
    "\n",
    "e = 65537\n",
    "while true\n",
    "  p = OpenSSL::BN.generate_prime(1024, false)\n",
    "  q = OpenSSL::BN.new(e).mod_inverse(p)\n",
    "  next unless q.prime?\n",
    "  key = OpenSSL::PKey::RSA.new\n",
    "  key.set_key(p.to_i * q.to_i, e, nil)\n",
    "  File.write('publickey.pem', key.to_pem)\n",
    "  File.binwrite('flag.encrypted', key.public_encrypt(File.binread('flag')))\n",
    "  break\n",
    "end\n",
    "```\n",
    "\n",
    "## RSA\n",
    "\n",
    "[RSA](https://en.wikipedia.org/wiki/RSA_(cryptosystem%29) is a popular public-key cryptosystem whose security relies on the difficulty of factoring the product of two large prime numbers.\n",
    "\n",
    "In order to generate a RSA key pair one must:\n",
    "* **randomly** choose two distinct prime numbers, which are typically called $p$ and $q$;\n",
    "* choose a number coprime to both $p - 1$ and $q - 1$, called $e$ or *public exponent*. We can see that the script uses $e = 65537$, which is a very common value of $e$;\n",
    "* find a number $d$, the *private exponent*, such that $d \\equiv e^{-1} \\bmod (p - 1)(q - 1)$. This means that $de \\equiv 1 \\bmod (p - 1)(q - 1)$\n",
    "* compute $n = qp$, the *modulus*;\n",
    "\n",
    "Once this is done, $e$ and $n$ are published as the *public key* while $d$, $p$, and $q$ are kept secret.\n",
    "\n",
    "Encrypting a message (an integer $m$) with a public key $(n, e)$ is simply done by computing $c \\equiv m^{e} \\bmod n$. Anyone who knows $d$ can decrypt the message by computing $m \\equiv c^{d} \\bmod n$.\n",
    "\n",
    "However if $d$ is not known, the only way of decrypting the message is to factor $n$ into $p$ and $q$ and then use them to compute $d$. Since this is extremely hard if $p$ and $q$ are very large, we can consider the cryptosystem secure.\n",
    "\n",
    "## Cracking the code\n",
    "\n",
    "We can already see that the script deviates from the standard procedure in that only $p$ is chosen at random. Once $p$ is chosen, $q$ is computed as $q \\equiv e^{-1} \\bmod p$, meaning that it completely depends from the value of $p$. The script keeps trying new values of $p$ until it finds one such that $q$ is also prime; this is because RSA won't work correctly unless $p$ and $q$ are both prime.\n",
    "\n",
    "It turns out that we can exploit this fact to decrypt the flag without knowing $d$ or factoring $n$.\n",
    "\n",
    "$q \\equiv e^{-1} \\bmod p$ means that $qe \\equiv 1 \\bmod p$, which in turns means that $qe = kp + 1$ for some integer $k$ (which we don't know).\n",
    "\n",
    "So far this is not very useful, since we don't know $p$ or $q$, but if we multiply both sides of the equality by $p$, we obtain $pqe = p(kp + 1)$.\n",
    "\n",
    "Since $pq$ is equal to $n$ and $n$ is part of the RSA public key that we have, we can now compute the left side of the equality.\n",
    "All that is left now is solving a quadratic equation for $p$.\n",
    "\n",
    "Once we have $p$ we can use it to compute $q = \\frac{n}{p}$, then $d \\equiv e^{-1} \\bmod (p - 1)(q - 1)$ and finally decrypt the key.\n",
    "\n",
    "Even though we don't know the value of $k$, trying all even integers starting from 2 until we find one such that the equation has a solution only takes a few seconds. We don't need to try odd integers because $pqe$ is the product of three (odd) prime numbers and so it's odd, which means that $p(kp + 1)$ is also odd. This can only be true if $kp + 1$ is odd, and so $kp$ must be even. But since $p$ is odd (no primes other than 2 are even and p is very large), $k$ must be even."
   ]
  },
  {
   "cell_type": "code",
   "execution_count": 1,
   "metadata": {
    "collapsed": false,
    "deletable": true,
    "editable": true
   },
   "outputs": [
    {
     "name": "stdout",
     "output_type": "stream",
     "text": [
      "TWCTF{9c10a83c122a9adfe6586f498655016d3267f195}\n",
      "\n"
     ]
    }
   ],
   "source": [
    "from Crypto.PublicKey import RSA\n",
    "from Crypto.Util.number import bytes_to_long, long_to_bytes\n",
    "\n",
    "with open ('publickey.pem', 'r') as f:\n",
    "    pubkey = RSA.importKey(f.read())\n",
    "    \n",
    "with open('flag.encrypted', 'r') as f:\n",
    "    ciphertext = bytes_to_long(f.read())\n",
    "    \n",
    "var('p')\n",
    "r = None\n",
    "n = pubkey.n\n",
    "e = pubkey.e\n",
    "k = 2\n",
    "\n",
    "# Try all even integers until we find one such that the equation has a solution\n",
    "#\n",
    "# The equation is written as a polynomial so we can force Sage to only look for\n",
    "# integer solutions by using eq.roots and ring=ZZ\n",
    "while not r:\n",
    "    eq = n * e - p * (k * p + 1)\n",
    "    r = eq.roots(p, ring=ZZ)\n",
    "    k += 2\n",
    "\n",
    "# We have p, now we can use it to compute q and d\n",
    "p = r[0][0]\n",
    "q = n / p\n",
    "d = inverse_mod(e, (p-1) * (q-1))\n",
    "\n",
    "# Decrypt the flag\n",
    "plaintext = power_mod(ciphertext, d, n)\n",
    "\n",
    "# Discard junk at the beginning of the plaintext\n",
    "print long_to_bytes(plaintext)[-48:]"
   ]
  }
 ],
 "metadata": {
  "kernelspec": {
   "display_name": "SageMath 8.1",
   "language": "",
   "name": "sagemath"
  },
  "language_info": {
   "codemirror_mode": {
    "name": "ipython",
    "version": 2
   },
   "file_extension": ".py",
   "mimetype": "text/x-python",
   "name": "python",
   "nbconvert_exporter": "python",
   "pygments_lexer": "ipython2",
   "version": "2.7.14"
  }
 },
 "nbformat": 4,
 "nbformat_minor": 2
}
