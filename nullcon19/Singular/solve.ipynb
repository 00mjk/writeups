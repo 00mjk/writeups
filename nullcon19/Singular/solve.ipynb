{
 "cells": [
  {
   "cell_type": "markdown",
   "metadata": {},
   "source": [
    "# Singular - Crypto 485\n",
    "\n",
    "Alice and Bob calculated a shared key on the elliptic curve\n",
    "$y^2 = x^3 + 330762886318172394930696774593722907073441522749x^2 + 6688528763308432271990130594743714957884433976x + 759214505060964991648440027744756938681220132782$\n",
    "\n",
    "$p = 785482254973602570424508065997142892171538672071$\n",
    "\n",
    "$G = (1, 68596750097555148647236998220450053605331891340)$\n",
    "\n",
    "(Alice's public key) $P = d1 * G = (453762742842106273626661098428675073042272925939, 680431771406393872682158079307720147623468587944)$\n",
    "\n",
    "(Bob's poblic key) $Q = d2 * G = (353016783569351064519522488538358652176885848450, 287096710721721383077746502546881354857243084036)$\n",
    "\n",
    "They have calculated $K = d1 * d2 * G$. They have taken $K$'s x coordinate in decimal and took sha256 of it and used it for AES ECB to encrypt the flag.\n",
    "\n",
    "Here is the encrypted flag: 480fd106c9a637d22fddd814965742236eb314c1b8fb68e70a7c7445ff04476082f8b9026c49d27110ba41b95e9f51dc"
   ]
  },
  {
   "cell_type": "code",
   "execution_count": 1,
   "metadata": {},
   "outputs": [],
   "source": [
    "from Crypto.Cipher import AES\n",
    "from hashlib import sha256"
   ]
  },
  {
   "cell_type": "code",
   "execution_count": 2,
   "metadata": {},
   "outputs": [],
   "source": [
    "# Task data\n",
    "enc_flag = '480fd106c9a637d22fddd814965742236eb314c1b8fb68e70a7c7445ff04476082f8b9026c49d27110ba41b95e9f51dc'.decode('hex')\n",
    "p = 785482254973602570424508065997142892171538672071\n",
    "F = GF(p)\n",
    "_.<x> = F[]\n",
    "\n",
    "P = (F(453762742842106273626661098428675073042272925939), F(680431771406393872682158079307720147623468587944))\n",
    "Q = (F(353016783569351064519522488538358652176885848450), F(287096710721721383077746502546881354857243084036))\n",
    "G = (F(1), F(68596750097555148647236998220450053605331891340)) "
   ]
  },
  {
   "cell_type": "markdown",
   "metadata": {},
   "source": [
    "# Solution\n",
    "\n",
    "TL;DR: Diffie-Hellman on an elliptic curve where computing discrete logarithms is easy. Recover the private keys and decrypt the flag.\n",
    "\n",
    "ECDH(Elliptic Curve Diffie-Hellman) is a variant of the Diffie-Hellman key exchange that takes place over an elliptic curve rather than on a subset of the integers. Because computing discrete logarithms is normally hard on elliptic curve, recovering the participants' private keys from the messages they exchange is also hard. However there are certain special (\"singular\") curves on which computing discrete logarithms is easy, which completely breaks ECDH's security.\n",
    "\n",
    "Because singular curves are not technically elliptic curves, Sage will throw an exception if we try to create one. As the title suggests, the curve used in this task is singular."
   ]
  },
  {
   "cell_type": "code",
   "execution_count": 3,
   "metadata": {},
   "outputs": [
    {
     "name": "stdout",
     "output_type": "stream",
     "text": [
      "invariants (0, 330762886318172394930696774593722907073441522749, 0, 6688528763308432271990130594743714957884433976, 759214505060964991648440027744756938681220132782) define a singular curve\n"
     ]
    }
   ],
   "source": [
    "try:\n",
    "    EllipticCurve(F, [0, 330762886318172394930696774593722907073441522749, 0, 6688528763308432271990130594743714957884433976, 759214505060964991648440027744756938681220132782])\n",
    "except ArithmeticError as e:\n",
    "    print e"
   ]
  },
  {
   "cell_type": "markdown",
   "metadata": {},
   "source": [
    "This happens because the polynomial on the right hand side of the curve's equation is not irreducible. In our case it's of the form $(x - r)^3$."
   ]
  },
  {
   "cell_type": "code",
   "execution_count": 4,
   "metadata": {},
   "outputs": [
    {
     "data": {
      "text/plain": [
       "(x + 372081713763924988451734946863621933081660064940)^3"
      ]
     },
     "execution_count": 4,
     "metadata": {},
     "output_type": "execute_result"
    }
   ],
   "source": [
    "poly = x^3 + 330762886318172394930696774593722907073441522749*x^2 + 6688528763308432271990130594743714957884433976*x + 759214505060964991648440027744756938681220132782\n",
    "poly.factor()"
   ]
  },
  {
   "cell_type": "markdown",
   "metadata": {},
   "source": [
    "It turns out that a curve of the form $y^2 = x^3$ is isomorphic to $(Z_p, +)$. What that means is that there is a one-to-one correspondence between the points of the curve and the integers between 0 and $p - 1$, and that adding two points on the curve is the same as adding the two corresponding integers modulo $p$. What that means is that we can compute the image of the two public keys in $Z_p$, then divide them by the image of $G$ to obtain the private keys.\n",
    "\n",
    "For our curve the isomorphism is $(x, y) \\leftrightarrow \\frac{x}{y}$.\n",
    "\n",
    "However because our curve is actually of the form $y^2 = (x - r)^3$ we first have to do a change of variable $x' = x - r$ (essentially shift the curve to the left)."
   ]
  },
  {
   "cell_type": "code",
   "execution_count": 5,
   "metadata": {},
   "outputs": [],
   "source": [
    "# Map our points to points on the translated curve\n",
    "r = poly.roots()[0][0]\n",
    "P1 = (P[0] - r, P[1])\n",
    "Q1 = (Q[0] - r, Q[1])\n",
    "G1 = (G[0] - r, G[1])\n",
    "\n",
    "# Then map them to integers\n",
    "P2 = P1[0] / P1[1]\n",
    "Q2 = Q1[0] / Q1[1]\n",
    "G2 = G1[0] / G1[1]"
   ]
  },
  {
   "cell_type": "markdown",
   "metadata": {},
   "source": [
    "Now recovering Alice's public key is as easy as doing a division modulo $p$."
   ]
  },
  {
   "cell_type": "code",
   "execution_count": 6,
   "metadata": {},
   "outputs": [],
   "source": [
    "d1 = P2 / G2"
   ]
  },
  {
   "cell_type": "markdown",
   "metadata": {},
   "source": [
    "Finally we can compute the image of the shared secret and do the above process in reverse to map it to a point on the original curve, then use the result to decrypt the flag."
   ]
  },
  {
   "cell_type": "code",
   "execution_count": 7,
   "metadata": {},
   "outputs": [],
   "source": [
    "key1 = Q2 * d1\n",
    "\n",
    "# Map to a point on the translated curve\n",
    "key_x = (x^3 - (x / key1)^2).roots()[0][0]\n",
    "Key2 = (key_x, key_x / key1)\n",
    "\n",
    "# Map to a point on the original curve\n",
    "Key3 = (Key2[0] + r, Key2[1])"
   ]
  },
  {
   "cell_type": "code",
   "execution_count": 8,
   "metadata": {},
   "outputs": [
    {
     "data": {
      "text/plain": [
       "'hackim19{w0ah_math_i5_quite_fun_a57f8e21}\\x07\\x07\\x07\\x07\\x07\\x07\\x07'"
      ]
     },
     "execution_count": 8,
     "metadata": {},
     "output_type": "execute_result"
    }
   ],
   "source": [
    "# Decrypt the flag\n",
    "aeskey = sha256(str(Key3[0])).digest()\n",
    "cipher = AES.new(aeskey, mode=AES.MODE_ECB)\n",
    "cipher.decrypt(enc_flag)"
   ]
  }
 ],
 "metadata": {
  "kernelspec": {
   "display_name": "SageMath 8.1",
   "language": "",
   "name": "sagemath"
  },
  "language_info": {
   "codemirror_mode": {
    "name": "ipython",
    "version": 2
   },
   "file_extension": ".py",
   "mimetype": "text/x-python",
   "name": "python",
   "nbconvert_exporter": "python",
   "pygments_lexer": "ipython2",
   "version": "2.7.15rc1"
  }
 },
 "nbformat": 4,
 "nbformat_minor": 2
}
